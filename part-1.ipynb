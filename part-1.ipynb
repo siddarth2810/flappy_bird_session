{
 "cells": [
  {
   "cell_type": "code",
   "execution_count": 2,
   "id": "3b1012e1",
   "metadata": {},
   "outputs": [
    {
     "name": "stdout",
     "output_type": "stream",
     "text": [
      "Defaulting to user installation because normal site-packages is not writeable\n",
      "Requirement already satisfied: pygame in /home/siddarth/.local/lib/python3.10/site-packages (2.1.2)\n",
      "\u001b[33mDEPRECATION: devscripts 2.22.1ubuntu1 has a non-standard version number. pip 24.1 will enforce this behaviour change. A possible replacement is to upgrade to a newer version of devscripts or contact the author to suggest that they release a version with a conforming version number. Discussion can be found at https://github.com/pypa/pip/issues/12063\u001b[0m\u001b[33m\n",
      "\u001b[0m"
     ]
    },
    {
     "ename": "SystemExit",
     "evalue": "",
     "output_type": "error",
     "traceback": [
      "An exception has occurred, use %tb to see the full traceback.\n",
      "\u001b[0;31mSystemExit\u001b[0m\n"
     ]
    }
   ],
   "source": [
    "#part 1 \n",
    "!pip install pygame\n",
    "import pygame\n",
    "\n",
    "pygame.init()\n",
    "\n",
    "#setting up width and height of the screen\n",
    "screen = pygame.display.set_mode((500,750))\n",
    "\n",
    "\n",
    "while True:\n",
    "    # Process player inputs.\n",
    "    for event in pygame.event.get():\n",
    "        if event.type == pygame.QUIT:\n",
    "            pygame.quit()\n",
    "            raise SystemExit\n",
    "            \n",
    "    #Try out different colors\n",
    "    screen.fill(\"red\")  \n",
    "    \n",
    "    pygame.display.update()  #update the screen"
   ]
  },
  {
   "cell_type": "code",
   "execution_count": null,
   "id": "ac531951",
   "metadata": {},
   "outputs": [],
   "source": []
  },
  {
   "cell_type": "code",
   "execution_count": null,
   "id": "659eb56b",
   "metadata": {},
   "outputs": [],
   "source": []
  }
 ],
 "metadata": {
  "kernelspec": {
   "display_name": "Python 3 (ipykernel)",
   "language": "python",
   "name": "python3"
  },
  "language_info": {
   "codemirror_mode": {
    "name": "ipython",
    "version": 3
   },
   "file_extension": ".py",
   "mimetype": "text/x-python",
   "name": "python",
   "nbconvert_exporter": "python",
   "pygments_lexer": "ipython3",
   "version": "3.10.12"
  }
 },
 "nbformat": 4,
 "nbformat_minor": 5
}
