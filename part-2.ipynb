{
 "cells": [
  {
   "cell_type": "code",
   "execution_count": 1,
   "metadata": {},
   "outputs": [
    {
     "name": "stdout",
     "output_type": "stream",
     "text": [
      "pygame 2.1.2 (SDL 2.0.16, Python 3.10.12)\n",
      "Hello from the pygame community. https://www.pygame.org/contribute.html\n"
     ]
    },
    {
     "ename": "NameError",
     "evalue": "name 'BIRD_IMAGE' is not defined",
     "output_type": "error",
     "traceback": [
      "\u001b[0;31m---------------------------------------------------------------------------\u001b[0m",
      "\u001b[0;31mNameError\u001b[0m                                 Traceback (most recent call last)",
      "\u001b[0;32m/tmp/ipykernel_13263/3057234709.py\u001b[0m in \u001b[0;36m<module>\u001b[0;34m\u001b[0m\n\u001b[1;32m     29\u001b[0m \u001b[0;34m\u001b[0m\u001b[0m\n\u001b[1;32m     30\u001b[0m     \u001b[0;31m#Draw bird\u001b[0m\u001b[0;34m\u001b[0m\u001b[0;34m\u001b[0m\u001b[0m\n\u001b[0;32m---> 31\u001b[0;31m     \u001b[0mSCREEN\u001b[0m\u001b[0;34m.\u001b[0m\u001b[0mblit\u001b[0m\u001b[0;34m(\u001b[0m\u001b[0mBIRD_IMAGE\u001b[0m\u001b[0;34m,\u001b[0m \u001b[0;34m(\u001b[0m\u001b[0mbird_x\u001b[0m\u001b[0;34m,\u001b[0m\u001b[0mbird_y\u001b[0m\u001b[0;34m)\u001b[0m\u001b[0;34m)\u001b[0m\u001b[0;34m\u001b[0m\u001b[0;34m\u001b[0m\u001b[0m\n\u001b[0m\u001b[1;32m     32\u001b[0m     \u001b[0;31m#print(bird_y)\u001b[0m\u001b[0;34m\u001b[0m\u001b[0;34m\u001b[0m\u001b[0m\n\u001b[1;32m     33\u001b[0m \u001b[0;34m\u001b[0m\u001b[0m\n",
      "\u001b[0;31mNameError\u001b[0m: name 'BIRD_IMAGE' is not defined"
     ]
    }
   ],
   "source": [
    "#part 2\n",
    "import pygame\n",
    "\n",
    "pygame.init()\n",
    "\n",
    "#setting up width and height of the screen\n",
    "SCREEN = pygame.display.set_mode((500,750))\n",
    "\n",
    "BACKGROUND_IMAGE = pygame.image.load('.images/background-1.png')\n",
    "\n",
    "#bird image\n",
    "BIRD_IMAGE = pygame.image.load('.images/bird2.png')\n",
    "bird_x = 50\n",
    "bird_y = 300\n",
    "\n",
    "\n",
    "\n",
    "while True:\n",
    "    # Process player inputs.\n",
    "    for event in pygame.event.get():\n",
    "        if event.type == pygame.QUIT:\n",
    "            pygame.quit()\n",
    "            raise SystemExit\n",
    "                    \n",
    "        \n",
    "    #Draw background image from 0,0\n",
    "    SCREEN.blit(BACKGROUND_IMAGE, (0,0))\n",
    "    \n",
    "    \n",
    "    #Draw bird\n",
    "    SCREEN.blit(BIRD_IMAGE, (bird_x,bird_y))\n",
    "    #print(bird_y)\n",
    "    \n",
    "    pygame.display.update()  #update the screen\n",
    "\n",
    "pygame.quit()   "
   ]
  },
  {
   "cell_type": "code",
   "execution_count": null,
   "metadata": {},
   "outputs": [],
   "source": []
  }
 ],
 "metadata": {
  "kernelspec": {
   "display_name": "Python 3",
   "language": "python",
   "name": "python3"
  },
  "language_info": {
   "codemirror_mode": {
    "name": "ipython",
    "version": 3
   },
   "file_extension": ".py",
   "mimetype": "text/x-python",
   "name": "python",
   "nbconvert_exporter": "python",
   "pygments_lexer": "ipython3",
   "version": "3.10.12"
  }
 },
 "nbformat": 4,
 "nbformat_minor": 2
}
