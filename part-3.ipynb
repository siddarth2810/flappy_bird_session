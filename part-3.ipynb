{
 "cells": [
  {
   "cell_type": "code",
   "execution_count": 7,
   "metadata": {},
   "outputs": [
    {
     "ename": "SystemExit",
     "evalue": "",
     "output_type": "error",
     "traceback": [
      "An exception has occurred, use %tb to see the full traceback.\n",
      "\u001b[0;31mSystemExit\u001b[0m\n"
     ]
    }
   ],
   "source": [
    "\n",
    "import pygame\n",
    "\n",
    "pygame.init()\n",
    "\n",
    "#setting up width and height of the screen\n",
    "SCREEN = pygame.display.set_mode((500,750))\n",
    "\n",
    "BACKGROUND_IMAGE = pygame.image.load('background.jpg')\n",
    "\n",
    "#bird image\n",
    "BIRD_IMAGE = pygame.image.load('bird1.png')\n",
    "bird_x = 50\n",
    "bird_y = 300\n",
    "bird_y_change = 0\n",
    "\n",
    "while True:\n",
    "    # Process player inputs.\n",
    "    for event in pygame.event.get():\n",
    "        if event.type == pygame.QUIT:\n",
    "            pygame.quit()\n",
    "            raise SystemExit\n",
    "            \n",
    "        #for the functionality of the bird\n",
    "        if event.type == pygame.KEYDOWN:\n",
    "            if event.key ==pygame.K_SPACE:\n",
    "                bird_y_change = -0.6\n",
    "                \n",
    "        #for the functionality of the bird\n",
    "        if event.type == pygame.KEYUP:\n",
    "            if event.key == pygame.K_SPACE:\n",
    "                bird_y_change = +0.25\n",
    "            \n",
    "        \n",
    "    #Draw background image from 0,0\n",
    "    SCREEN.blit(BACKGROUND_IMAGE, (0,0))\n",
    "    \n",
    "    bird_y = bird_y + bird_y_change\n",
    "    \n",
    "    #Solve the challenge here\n",
    "    \n",
    "    #Draw bird\n",
    "    SCREEN.blit(BIRD_IMAGE, (bird_x,bird_y))\n",
    "    #print(bird_y)\n",
    "    \n",
    "    pygame.display.update()  #update the screen\n",
    "\n",
    "pygame.quit()   "
   ]
  },
  {
   "cell_type": "code",
   "execution_count": null,
   "metadata": {},
   "outputs": [],
   "source": []
  }
 ],
 "metadata": {
  "kernelspec": {
   "display_name": "Python 3",
   "language": "python",
   "name": "python3"
  },
  "language_info": {
   "codemirror_mode": {
    "name": "ipython",
    "version": 3
   },
   "file_extension": ".py",
   "mimetype": "text/x-python",
   "name": "python",
   "nbconvert_exporter": "python",
   "pygments_lexer": "ipython3",
   "version": "3.10.12"
  }
 },
 "nbformat": 4,
 "nbformat_minor": 2
}
