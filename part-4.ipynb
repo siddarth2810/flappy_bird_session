{
 "cells": [
  {
   "cell_type": "code",
   "execution_count": 9,
   "metadata": {},
   "outputs": [
    {
     "ename": "SystemExit",
     "evalue": "",
     "output_type": "error",
     "traceback": [
      "An exception has occurred, use %tb to see the full traceback.\n",
      "\u001b[0;31mSystemExit\u001b[0m\n"
     ]
    }
   ],
   "source": [
    "import pygame\n",
    "import random\n",
    "\n",
    "pygame.init()\n",
    "\n",
    "#setting up width and height of the screen\n",
    "SCREEN = pygame.display.set_mode((500,750))\n",
    "\n",
    "BACKGROUND_IMAGE = pygame.image.load('background.jpg')\n",
    "\n",
    "#bird image\n",
    "BIRD_IMAGE = pygame.image.load('bird2.png')\n",
    "\n",
    "bird_x = 75\n",
    "bird_y = 300\n",
    "bird_y_change = 0\n",
    "\n",
    "\n",
    "#PIPES\n",
    "PIPE_WIDTH = 70\n",
    "PIPE_HEIGHT = random.randint(150,450) #generate between 150 and 450\n",
    "PIPE_COLOR  = (\"green\")\n",
    "PIPE_X_CHANGE = -0.5   #Pipe moves towards the left\n",
    "PIPE_X = 500     #starting at the end of the screen\n",
    "PIPE_GAP = 180     # Constant gap between top and bottom pipes\n",
    "\n",
    "def display_pipe(height):\n",
    "    pygame.draw.rect(SCREEN, PIPE_COLOR, (PIPE_X, 0, PIPE_WIDTH, height))\n",
    "    bottom_height = 635 - height -PIPE_GAP\n",
    "    pygame.draw.rect(SCREEN, PIPE_COLOR, (PIPE_X, 205-bottom_height, PIPE_WIDTH, bottom_height))\n",
    "    \n",
    "        \n",
    "\n",
    "while True:\n",
    "    # Process player inputs.\n",
    "    for event in pygame.event.get():\n",
    "        if event.type == pygame.QUIT:\n",
    "            pygame.quit()\n",
    "            raise SystemExit\n",
    "            \n",
    "        #when spacebar is released\n",
    "        if event.type == pygame.KEYDOWN:\n",
    "            if event.key ==pygame.K_SPACE:\n",
    "                bird_y_change = -0.8\n",
    "                \n",
    "        #when spacebar is pressed\n",
    "        if event.type == pygame.KEYUP:\n",
    "            if event.key == pygame.K_SPACE:\n",
    "                bird_y_change = +0.3\n",
    "                \n",
    "             \n",
    "    \n",
    "    #Draw background image from 0,0\n",
    "    SCREEN.blit(BACKGROUND_IMAGE, (0,0))\n",
    "    \n",
    "    \n",
    "    bird_y = bird_y + bird_y_change\n",
    "    \n",
    "    if bird_y <=0:\n",
    "        bird_y =0\n",
    "    if bird_y >=571:\n",
    "        bird_y = 571\n",
    "        \n",
    "    PIPE_X = PIPE_X + PIPE_X_CHANGE\n",
    "    \n",
    "    if PIPE_X <=0:\n",
    "        PIPE_X = 500\n",
    "        PIPE_HEIGHT = random.randint(200,400)\n",
    "\n",
    "    display_pipe(PIPE_HEIGHT) \n",
    "    \n",
    "    \n",
    "    #Draw bird\n",
    "    SCREEN.blit(BIRD_IMAGE, (bird_x,bird_y))\n",
    "\n",
    "    pygame.display.update() \n",
    "\n",
    "pygame.quit()    "
   ]
  },
  {
   "cell_type": "code",
   "execution_count": null,
   "metadata": {},
   "outputs": [],
   "source": []
  }
 ],
 "metadata": {
  "kernelspec": {
   "display_name": "Python 3",
   "language": "python",
   "name": "python3"
  },
  "language_info": {
   "codemirror_mode": {
    "name": "ipython",
    "version": 3
   },
   "file_extension": ".py",
   "mimetype": "text/x-python",
   "name": "python",
   "nbconvert_exporter": "python",
   "pygments_lexer": "ipython3",
   "version": "3.10.12"
  }
 },
 "nbformat": 4,
 "nbformat_minor": 2
}
